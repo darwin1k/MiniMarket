{
 "cells": [
  {
   "cell_type": "code",
   "execution_count": 63,
   "metadata": {},
   "outputs": [],
   "source": [
    "# carga de \n",
    "\n",
    "import numpy as np\n",
    "import pandas as pd\n",
    "import matplotlib as plt\n",
    "import seaborn as sns\n",
    "\n",
    "\"\"\"\n",
    "_ventas = ventas agrupadas por canasta \n",
    "_ventas1 = ventas individuales sin agrupar y contiene todos los productos comprados\n",
    "_productos = lista de productos y sus códigos\n",
    "_movimientos = contiene los movimientos realizados con fecha y hora x cada producto.\n",
    "\"\"\"\n",
    "\n",
    "#lectura de archivos de ventas\n",
    "datos_ventas = pd.read_excel('./datasets/030122_ventas.xlsx')\n",
    "datos_canasta = pd.read_excel('./datasets/030122_ventas1.xlsx')\n",
    "datos_productos = pd.read_excel('./datasets/030122_productos.xlsx')\n",
    "datos_movimientos = pd.read_excel('./datasets/030122_movimientos.xlsx')"
   ]
  },
  {
   "cell_type": "code",
   "execution_count": 102,
   "metadata": {},
   "outputs": [
    {
     "data": {
      "text/html": [
       "<div>\n",
       "<style scoped>\n",
       "    .dataframe tbody tr th:only-of-type {\n",
       "        vertical-align: middle;\n",
       "    }\n",
       "\n",
       "    .dataframe tbody tr th {\n",
       "        vertical-align: top;\n",
       "    }\n",
       "\n",
       "    .dataframe thead th {\n",
       "        text-align: right;\n",
       "    }\n",
       "</style>\n",
       "<table border=\"1\" class=\"dataframe\">\n",
       "  <thead>\n",
       "    <tr style=\"text-align: right;\">\n",
       "      <th></th>\n",
       "      <th>EmpCod</th>\n",
       "      <th>VenNro</th>\n",
       "      <th>PrdCod</th>\n",
       "      <th>VenIteCnt</th>\n",
       "      <th>VenItePrc</th>\n",
       "      <th>VenIteIde</th>\n",
       "    </tr>\n",
       "  </thead>\n",
       "  <tbody>\n",
       "    <tr>\n",
       "      <th>0</th>\n",
       "      <td>1</td>\n",
       "      <td>11</td>\n",
       "      <td>952</td>\n",
       "      <td>1.0</td>\n",
       "      <td>2000</td>\n",
       "      <td>V</td>\n",
       "    </tr>\n",
       "    <tr>\n",
       "      <th>1</th>\n",
       "      <td>1</td>\n",
       "      <td>11</td>\n",
       "      <td>975</td>\n",
       "      <td>3.0</td>\n",
       "      <td>1000</td>\n",
       "      <td>V</td>\n",
       "    </tr>\n",
       "    <tr>\n",
       "      <th>2</th>\n",
       "      <td>1</td>\n",
       "      <td>11</td>\n",
       "      <td>989</td>\n",
       "      <td>6.0</td>\n",
       "      <td>700</td>\n",
       "      <td>V</td>\n",
       "    </tr>\n",
       "    <tr>\n",
       "      <th>3</th>\n",
       "      <td>1</td>\n",
       "      <td>11</td>\n",
       "      <td>1178</td>\n",
       "      <td>1.0</td>\n",
       "      <td>500</td>\n",
       "      <td>V</td>\n",
       "    </tr>\n",
       "    <tr>\n",
       "      <th>4</th>\n",
       "      <td>1</td>\n",
       "      <td>12</td>\n",
       "      <td>111</td>\n",
       "      <td>2.0</td>\n",
       "      <td>900</td>\n",
       "      <td>V</td>\n",
       "    </tr>\n",
       "    <tr>\n",
       "      <th>...</th>\n",
       "      <td>...</td>\n",
       "      <td>...</td>\n",
       "      <td>...</td>\n",
       "      <td>...</td>\n",
       "      <td>...</td>\n",
       "      <td>...</td>\n",
       "    </tr>\n",
       "    <tr>\n",
       "      <th>244368</th>\n",
       "      <td>1</td>\n",
       "      <td>97656</td>\n",
       "      <td>1305</td>\n",
       "      <td>1.0</td>\n",
       "      <td>500</td>\n",
       "      <td>V</td>\n",
       "    </tr>\n",
       "    <tr>\n",
       "      <th>244369</th>\n",
       "      <td>1</td>\n",
       "      <td>97656</td>\n",
       "      <td>1687</td>\n",
       "      <td>1.0</td>\n",
       "      <td>2200</td>\n",
       "      <td>V</td>\n",
       "    </tr>\n",
       "    <tr>\n",
       "      <th>244370</th>\n",
       "      <td>1</td>\n",
       "      <td>97657</td>\n",
       "      <td>991</td>\n",
       "      <td>1.0</td>\n",
       "      <td>850</td>\n",
       "      <td>V</td>\n",
       "    </tr>\n",
       "    <tr>\n",
       "      <th>244371</th>\n",
       "      <td>1</td>\n",
       "      <td>97657</td>\n",
       "      <td>1538</td>\n",
       "      <td>1.0</td>\n",
       "      <td>500</td>\n",
       "      <td>V</td>\n",
       "    </tr>\n",
       "    <tr>\n",
       "      <th>244372</th>\n",
       "      <td>1</td>\n",
       "      <td>97657</td>\n",
       "      <td>2257</td>\n",
       "      <td>1.0</td>\n",
       "      <td>500</td>\n",
       "      <td>V</td>\n",
       "    </tr>\n",
       "  </tbody>\n",
       "</table>\n",
       "<p>244373 rows × 6 columns</p>\n",
       "</div>"
      ],
      "text/plain": [
       "        EmpCod  VenNro  PrdCod  VenIteCnt  VenItePrc VenIteIde\n",
       "0            1      11     952        1.0       2000         V\n",
       "1            1      11     975        3.0       1000         V\n",
       "2            1      11     989        6.0        700         V\n",
       "3            1      11    1178        1.0        500         V\n",
       "4            1      12     111        2.0        900         V\n",
       "...        ...     ...     ...        ...        ...       ...\n",
       "244368       1   97656    1305        1.0        500         V\n",
       "244369       1   97656    1687        1.0       2200         V\n",
       "244370       1   97657     991        1.0        850         V\n",
       "244371       1   97657    1538        1.0        500         V\n",
       "244372       1   97657    2257        1.0        500         V\n",
       "\n",
       "[244373 rows x 6 columns]"
      ]
     },
     "execution_count": 102,
     "metadata": {},
     "output_type": "execute_result"
    }
   ],
   "source": [
    "import matplotlib.pyplot as plt\n",
    "datos_canasta\n",
    "#datos_movimientos.head()"
   ]
  },
  {
   "cell_type": "code",
   "execution_count": 65,
   "metadata": {},
   "outputs": [
    {
     "name": "stdout",
     "output_type": "stream",
     "text": [
      "<class 'pandas.core.frame.DataFrame'>\n",
      "RangeIndex: 244373 entries, 0 to 244372\n",
      "Data columns (total 6 columns):\n",
      " #   Column     Non-Null Count   Dtype  \n",
      "---  ------     --------------   -----  \n",
      " 0   EmpCod     244373 non-null  int64  \n",
      " 1   VenNro     244373 non-null  int64  \n",
      " 2   PrdCod     244373 non-null  int64  \n",
      " 3   VenIteCnt  244373 non-null  float64\n",
      " 4   VenItePrc  244373 non-null  int64  \n",
      " 5   VenIteIde  244373 non-null  object \n",
      "dtypes: float64(1), int64(4), object(1)\n",
      "memory usage: 11.2+ MB\n"
     ]
    }
   ],
   "source": [
    "#cuales son los tipos de datos\n",
    "datos_canasta.info()"
   ]
  },
  {
   "cell_type": "code",
   "execution_count": 66,
   "metadata": {},
   "outputs": [
    {
     "data": {
      "text/plain": [
       "EmpCod       0\n",
       "VenNro       0\n",
       "PrdCod       0\n",
       "VenIteCnt    0\n",
       "VenItePrc    0\n",
       "VenIteIde    0\n",
       "dtype: int64"
      ]
     },
     "execution_count": 66,
     "metadata": {},
     "output_type": "execute_result"
    }
   ],
   "source": [
    "# existen datos nulos ?\n",
    "datos_canasta.isnull().sum()"
   ]
  },
  {
   "cell_type": "markdown",
   "metadata": {},
   "source": [
    "### Cuántas tipos de canastas diferentes existen"
   ]
  },
  {
   "cell_type": "code",
   "execution_count": 67,
   "metadata": {},
   "outputs": [
    {
     "name": "stdout",
     "output_type": "stream",
     "text": [
      "fecha inicio: 2020-08-09 00:00:00\n",
      "fecha final: 2021-12-03 00:00:00\n",
      "\n",
      "Canastas únicas: 97646\n"
     ]
    }
   ],
   "source": [
    "# periodo de análisis\n",
    "\n",
    "datos = datos_movimientos['MovFch']\n",
    "print(f'fecha inicio: ' + str(min(datos)))\n",
    "print(f'fecha final: ' + str(max(datos)))\n",
    "\n",
    "# números de canastas únicas\n",
    "\n",
    "print('\\nCanastas únicas: ' + str(len(datos_canasta['VenNro'].unique())))"
   ]
  },
  {
   "cell_type": "markdown",
   "metadata": {},
   "source": [
    "### cuántos productos son incluidos en las canastas. \n",
    "\n",
    "Se analiza la cantidad de productos, mostrando algunas medidas como, max, min, media, median. Y también de forma gráfica"
   ]
  },
  {
   "cell_type": "code",
   "execution_count": 68,
   "metadata": {},
   "outputs": [
    {
     "data": {
      "text/html": [
       "<div>\n",
       "<style scoped>\n",
       "    .dataframe tbody tr th:only-of-type {\n",
       "        vertical-align: middle;\n",
       "    }\n",
       "\n",
       "    .dataframe tbody tr th {\n",
       "        vertical-align: top;\n",
       "    }\n",
       "\n",
       "    .dataframe thead th {\n",
       "        text-align: right;\n",
       "    }\n",
       "</style>\n",
       "<table border=\"1\" class=\"dataframe\">\n",
       "  <thead>\n",
       "    <tr style=\"text-align: right;\">\n",
       "      <th></th>\n",
       "      <th>VenNro</th>\n",
       "      <th>CantidadProductos</th>\n",
       "    </tr>\n",
       "  </thead>\n",
       "  <tbody>\n",
       "    <tr>\n",
       "      <th>0</th>\n",
       "      <td>11</td>\n",
       "      <td>4</td>\n",
       "    </tr>\n",
       "    <tr>\n",
       "      <th>1</th>\n",
       "      <td>12</td>\n",
       "      <td>14</td>\n",
       "    </tr>\n",
       "    <tr>\n",
       "      <th>2</th>\n",
       "      <td>13</td>\n",
       "      <td>1</td>\n",
       "    </tr>\n",
       "    <tr>\n",
       "      <th>3</th>\n",
       "      <td>14</td>\n",
       "      <td>1</td>\n",
       "    </tr>\n",
       "    <tr>\n",
       "      <th>4</th>\n",
       "      <td>15</td>\n",
       "      <td>1</td>\n",
       "    </tr>\n",
       "    <tr>\n",
       "      <th>...</th>\n",
       "      <td>...</td>\n",
       "      <td>...</td>\n",
       "    </tr>\n",
       "    <tr>\n",
       "      <th>97641</th>\n",
       "      <td>97653</td>\n",
       "      <td>2</td>\n",
       "    </tr>\n",
       "    <tr>\n",
       "      <th>97642</th>\n",
       "      <td>97654</td>\n",
       "      <td>3</td>\n",
       "    </tr>\n",
       "    <tr>\n",
       "      <th>97643</th>\n",
       "      <td>97655</td>\n",
       "      <td>1</td>\n",
       "    </tr>\n",
       "    <tr>\n",
       "      <th>97644</th>\n",
       "      <td>97656</td>\n",
       "      <td>2</td>\n",
       "    </tr>\n",
       "    <tr>\n",
       "      <th>97645</th>\n",
       "      <td>97657</td>\n",
       "      <td>3</td>\n",
       "    </tr>\n",
       "  </tbody>\n",
       "</table>\n",
       "<p>97646 rows × 2 columns</p>\n",
       "</div>"
      ],
      "text/plain": [
       "       VenNro  CantidadProductos\n",
       "0          11                  4\n",
       "1          12                 14\n",
       "2          13                  1\n",
       "3          14                  1\n",
       "4          15                  1\n",
       "...       ...                ...\n",
       "97641   97653                  2\n",
       "97642   97654                  3\n",
       "97643   97655                  1\n",
       "97644   97656                  2\n",
       "97645   97657                  3\n",
       "\n",
       "[97646 rows x 2 columns]"
      ]
     },
     "execution_count": 68,
     "metadata": {},
     "output_type": "execute_result"
    }
   ],
   "source": [
    "# agrupar por canasta y contar los productos que existen\n",
    "\n",
    "datos_canasta.groupby('VenNro').VenNro.count().reset_index(name='CantidadProductos')\n"
   ]
  },
  {
   "cell_type": "code",
   "execution_count": 69,
   "metadata": {},
   "outputs": [
    {
     "name": "stdout",
     "output_type": "stream",
     "text": [
      "               sum  count\n",
      "VenNro PrdCod            \n",
      "11     952     1.0      1\n",
      "       975     3.0      1\n",
      "       989     6.0      1\n",
      "       1178    1.0      1\n",
      "12     111     2.0      1\n",
      "\n",
      "N° canastas con productos duplicados:  0\n",
      "N° canastas sin productos:  0\n"
     ]
    }
   ],
   "source": [
    "#agrupar datos por N° venta y código de producto. Se suma la cantidad y se cuenta cuántas veces el \n",
    "resultado = datos_canasta.groupby(['VenNro','PrdCod']).VenIteCnt.agg(['sum','count'])\n",
    "print(resultado.head(5))\n",
    "\n",
    "# verificar si existen cod. productos duplicados en las canastas.\n",
    "\"\"\"\n",
    "Count, indica si existen duplicidad de cod. de productos\n",
    "Sum, suma la cantidad vendida por cada cod. de productos\n",
    "\"\"\"\n",
    "print('\\nN° canastas con productos duplicados: ', len(resultado[resultado['count'] >1]))\n",
    "print('N° canastas sin productos: ', len(resultado[resultado['count'] == 0]))\n"
   ]
  },
  {
   "cell_type": "code",
   "execution_count": 87,
   "metadata": {},
   "outputs": [
    {
     "name": "stdout",
     "output_type": "stream",
     "text": [
      "   VenNro  CantidadProductos\n",
      "0      11                  4\n",
      "1      12                 14\n",
      "2      13                  1\n",
      "3      14                  1\n",
      "4      15                  1\n"
     ]
    },
    {
     "data": {
      "text/html": [
       "<div>\n",
       "<style scoped>\n",
       "    .dataframe tbody tr th:only-of-type {\n",
       "        vertical-align: middle;\n",
       "    }\n",
       "\n",
       "    .dataframe tbody tr th {\n",
       "        vertical-align: top;\n",
       "    }\n",
       "\n",
       "    .dataframe thead th {\n",
       "        text-align: right;\n",
       "    }\n",
       "</style>\n",
       "<table border=\"1\" class=\"dataframe\">\n",
       "  <thead>\n",
       "    <tr style=\"text-align: right;\">\n",
       "      <th></th>\n",
       "      <th>VenNro</th>\n",
       "      <th>CantidadProductos</th>\n",
       "    </tr>\n",
       "  </thead>\n",
       "  <tbody>\n",
       "    <tr>\n",
       "      <th>count</th>\n",
       "      <td>97646.000000</td>\n",
       "      <td>97646.000000</td>\n",
       "    </tr>\n",
       "    <tr>\n",
       "      <th>mean</th>\n",
       "      <td>48834.493743</td>\n",
       "      <td>2.502642</td>\n",
       "    </tr>\n",
       "    <tr>\n",
       "      <th>std</th>\n",
       "      <td>28188.127300</td>\n",
       "      <td>2.071666</td>\n",
       "    </tr>\n",
       "    <tr>\n",
       "      <th>min</th>\n",
       "      <td>11.000000</td>\n",
       "      <td>1.000000</td>\n",
       "    </tr>\n",
       "    <tr>\n",
       "      <th>25%</th>\n",
       "      <td>24423.250000</td>\n",
       "      <td>1.000000</td>\n",
       "    </tr>\n",
       "    <tr>\n",
       "      <th>50%</th>\n",
       "      <td>48834.500000</td>\n",
       "      <td>2.000000</td>\n",
       "    </tr>\n",
       "    <tr>\n",
       "      <th>75%</th>\n",
       "      <td>73245.750000</td>\n",
       "      <td>3.000000</td>\n",
       "    </tr>\n",
       "    <tr>\n",
       "      <th>max</th>\n",
       "      <td>97657.000000</td>\n",
       "      <td>54.000000</td>\n",
       "    </tr>\n",
       "  </tbody>\n",
       "</table>\n",
       "</div>"
      ],
      "text/plain": [
       "             VenNro  CantidadProductos\n",
       "count  97646.000000       97646.000000\n",
       "mean   48834.493743           2.502642\n",
       "std    28188.127300           2.071666\n",
       "min       11.000000           1.000000\n",
       "25%    24423.250000           1.000000\n",
       "50%    48834.500000           2.000000\n",
       "75%    73245.750000           3.000000\n",
       "max    97657.000000          54.000000"
      ]
     },
     "execution_count": 87,
     "metadata": {},
     "output_type": "execute_result"
    }
   ],
   "source": [
    "\"\"\"\n",
    "Agrupación por canastas únicas.\n",
    "CantidadProducts, se agrupan por cod. productos\n",
    "\"\"\"\n",
    "# se agrega la cantidad de productos agrupado\n",
    "productos_canasta = datos_canasta.groupby('VenNro').agg(\n",
    "    CantidadProductos=('PrdCod', 'count')\n",
    ").reset_index()\n",
    "\n",
    "print(productos_canasta.head(5))\n",
    "\n",
    "productos_canasta.describe()"
   ]
  },
  {
   "cell_type": "markdown",
   "metadata": {},
   "source": [
    "Se puede ver desde el resumen, que existen outliers y que se requiere verificar en las siguientes secciones."
   ]
  },
  {
   "cell_type": "code",
   "execution_count": 89,
   "metadata": {},
   "outputs": [
    {
     "name": "stderr",
     "output_type": "stream",
     "text": [
      "C:\\Users\\darw_\\AppData\\Local\\Temp\\ipykernel_16932\\1542980806.py:38: UserWarning: Ignoring `palette` because no `hue` variable has been assigned.\n",
      "  sns.ecdfplot(base_datos, x='CantidadProductos', palette=['blue'], ax=axes[1])\n"
     ]
    },
    {
     "data": {
      "image/png": "[encoded data removed]",
      "text/plain": [
       "<Figure size 1500x500 with 2 Axes>"
      ]
     },
     "metadata": {},
     "output_type": "display_data"
    },
    {
     "data": {
      "image/png": "[encoded data removed]",
      "text/plain": [
       "<Figure size 1500x500 with 2 Axes>"
      ]
     },
     "metadata": {},
     "output_type": "display_data"
    }
   ],
   "source": [
    "\"\"\"\n",
    "Visualizacion de la distribución de la cantidad de productos en cada canasta.\n",
    "(izq) gráfico de cajas, (der) scatter\n",
    "\"\"\"\n",
    "\n",
    "figura_tamaño = (15,5)\n",
    "\n",
    "fig, axes = plt.subplots(1,2, figsize=figura_tamaño)\n",
    "# valores a mostrar\n",
    "x = productos_canasta.index\n",
    "y = productos_canasta['CantidadProductos']\n",
    "base_datos = productos_canasta\n",
    "\n",
    "# muestra boxplot para tag 1 y tag 2\n",
    "sns.boxplot(data=base_datos, x=\"CantidadProductos\", ax=axes[0])\n",
    "\n",
    "# grafica los datos \n",
    "axes[1].scatter(x, y, linewidth=2.0, color='blue')\n",
    "\n",
    "plt.xlabel('Canastas') \n",
    "plt.ylabel('Cantidad Productos [unidad]') \n",
    "plt.legend([\"Ventas\"], loc=\"upper right\")\n",
    "plt.show\n",
    "#---------------------\n",
    "\"\"\"\n",
    "Visualizacion de la distribución de la cantidad de productos en cada canasta.\n",
    "(izq) histograma, (der) distribucion acumulativa\n",
    "\"\"\"\n",
    "\n",
    "fig , axes= plt.subplots(1,2, figsize= figura_tamaño)\n",
    "axes = axes.ravel()\n",
    "\n",
    "sns.histplot(y, bins=50, linewidth=0.5, edgecolor=\"white\", color='blue', kde=True, ax=axes[0]) \n",
    "axes[0].legend([\"tag1\", \"tag2\"], loc=\"upper right\")\n",
    "\n",
    "\n",
    "# distribución acumulativa\n",
    "sns.ecdfplot(base_datos, x='CantidadProductos', palette=['blue'], ax=axes[1])\n",
    "\n",
    "fig.tight_layout()\n",
    "plt.show()"
   ]
  },
  {
   "cell_type": "markdown",
   "metadata": {},
   "source": [
    "Se puede verificar que +95% de la distribución está 1 y 15 productos. Y existen casos con mayor cantidad de productos pero son casos menos probable que son identificados como outliers.\n",
    "Por lo tanto, se toma la decisión de considerar en un análisis hasta 15 productos."
   ]
  },
  {
   "cell_type": "code",
   "execution_count": 108,
   "metadata": {},
   "outputs": [
    {
     "name": "stdout",
     "output_type": "stream",
     "text": [
      "Cantidad canastas menor a 10 productos: 97385\n",
      "Cantidad canastas mayor a 10 productos: 326\n",
      "\n",
      "datos filtrados para menor igual a 15 productos\n"
     ]
    },
    {
     "data": {
      "text/html": [
       "<div>\n",
       "<style scoped>\n",
       "    .dataframe tbody tr th:only-of-type {\n",
       "        vertical-align: middle;\n",
       "    }\n",
       "\n",
       "    .dataframe tbody tr th {\n",
       "        vertical-align: top;\n",
       "    }\n",
       "\n",
       "    .dataframe thead th {\n",
       "        text-align: right;\n",
       "    }\n",
       "</style>\n",
       "<table border=\"1\" class=\"dataframe\">\n",
       "  <thead>\n",
       "    <tr style=\"text-align: right;\">\n",
       "      <th></th>\n",
       "      <th>EmpCod</th>\n",
       "      <th>VenNro</th>\n",
       "      <th>PrdCod</th>\n",
       "      <th>VenIteCnt</th>\n",
       "      <th>VenItePrc</th>\n",
       "      <th>VenIteIde</th>\n",
       "    </tr>\n",
       "  </thead>\n",
       "  <tbody>\n",
       "    <tr>\n",
       "      <th>0</th>\n",
       "      <td>1</td>\n",
       "      <td>11</td>\n",
       "      <td>952</td>\n",
       "      <td>1.0</td>\n",
       "      <td>2000</td>\n",
       "      <td>V</td>\n",
       "    </tr>\n",
       "    <tr>\n",
       "      <th>1</th>\n",
       "      <td>1</td>\n",
       "      <td>11</td>\n",
       "      <td>975</td>\n",
       "      <td>3.0</td>\n",
       "      <td>1000</td>\n",
       "      <td>V</td>\n",
       "    </tr>\n",
       "    <tr>\n",
       "      <th>2</th>\n",
       "      <td>1</td>\n",
       "      <td>11</td>\n",
       "      <td>989</td>\n",
       "      <td>6.0</td>\n",
       "      <td>700</td>\n",
       "      <td>V</td>\n",
       "    </tr>\n",
       "    <tr>\n",
       "      <th>3</th>\n",
       "      <td>1</td>\n",
       "      <td>11</td>\n",
       "      <td>1178</td>\n",
       "      <td>1.0</td>\n",
       "      <td>500</td>\n",
       "      <td>V</td>\n",
       "    </tr>\n",
       "    <tr>\n",
       "      <th>4</th>\n",
       "      <td>1</td>\n",
       "      <td>12</td>\n",
       "      <td>111</td>\n",
       "      <td>2.0</td>\n",
       "      <td>900</td>\n",
       "      <td>V</td>\n",
       "    </tr>\n",
       "    <tr>\n",
       "      <th>...</th>\n",
       "      <td>...</td>\n",
       "      <td>...</td>\n",
       "      <td>...</td>\n",
       "      <td>...</td>\n",
       "      <td>...</td>\n",
       "      <td>...</td>\n",
       "    </tr>\n",
       "    <tr>\n",
       "      <th>244368</th>\n",
       "      <td>1</td>\n",
       "      <td>97656</td>\n",
       "      <td>1305</td>\n",
       "      <td>1.0</td>\n",
       "      <td>500</td>\n",
       "      <td>V</td>\n",
       "    </tr>\n",
       "    <tr>\n",
       "      <th>244369</th>\n",
       "      <td>1</td>\n",
       "      <td>97656</td>\n",
       "      <td>1687</td>\n",
       "      <td>1.0</td>\n",
       "      <td>2200</td>\n",
       "      <td>V</td>\n",
       "    </tr>\n",
       "    <tr>\n",
       "      <th>244370</th>\n",
       "      <td>1</td>\n",
       "      <td>97657</td>\n",
       "      <td>991</td>\n",
       "      <td>1.0</td>\n",
       "      <td>850</td>\n",
       "      <td>V</td>\n",
       "    </tr>\n",
       "    <tr>\n",
       "      <th>244371</th>\n",
       "      <td>1</td>\n",
       "      <td>97657</td>\n",
       "      <td>1538</td>\n",
       "      <td>1.0</td>\n",
       "      <td>500</td>\n",
       "      <td>V</td>\n",
       "    </tr>\n",
       "    <tr>\n",
       "      <th>244372</th>\n",
       "      <td>1</td>\n",
       "      <td>97657</td>\n",
       "      <td>2257</td>\n",
       "      <td>1.0</td>\n",
       "      <td>500</td>\n",
       "      <td>V</td>\n",
       "    </tr>\n",
       "  </tbody>\n",
       "</table>\n",
       "<p>238947 rows × 6 columns</p>\n",
       "</div>"
      ],
      "text/plain": [
       "        EmpCod  VenNro  PrdCod  VenIteCnt  VenItePrc VenIteIde\n",
       "0            1      11     952        1.0       2000         V\n",
       "1            1      11     975        3.0       1000         V\n",
       "2            1      11     989        6.0        700         V\n",
       "3            1      11    1178        1.0        500         V\n",
       "4            1      12     111        2.0        900         V\n",
       "...        ...     ...     ...        ...        ...       ...\n",
       "244368       1   97656    1305        1.0        500         V\n",
       "244369       1   97656    1687        1.0       2200         V\n",
       "244370       1   97657     991        1.0        850         V\n",
       "244371       1   97657    1538        1.0        500         V\n",
       "244372       1   97657    2257        1.0        500         V\n",
       "\n",
       "[238947 rows x 6 columns]"
      ]
     },
     "execution_count": 108,
     "metadata": {},
     "output_type": "execute_result"
    }
   ],
   "source": [
    "\"\"\"\n",
    "Filtrado de datos para Cantidad <=10\n",
    "\"\"\"\n",
    "cantidad_productos = 15\n",
    "canastas_menor10productos = productos_canasta[productos_canasta['CantidadProductos'] <= cantidad_productos]\n",
    "canastas_mayor10productos = productos_canasta[productos_canasta['CantidadProductos']>= cantidad_productos]\n",
    "\n",
    "print('Cantidad canastas menor a 10 productos:', len(canastas_menor10productos))\n",
    "print('Cantidad canastas mayor a 10 productos:', len(canastas_mayor10productos))\n",
    "\n",
    "#--------------------------\n",
    "print(f'\\ndatos filtrados para menor igual a {cantidad_productos} productos')\n",
    "\n",
    "canastas_filtradas =datos_canasta[datos_canasta['VenNro'].isin(canastas_menor10productos['VenNro'])]\n",
    "canastas_filtradas\n"
   ]
  },
  {
   "cell_type": "code",
   "execution_count": 114,
   "metadata": {},
   "outputs": [
    {
     "data": {
      "text/html": [
       "<div>\n",
       "<style scoped>\n",
       "    .dataframe tbody tr th:only-of-type {\n",
       "        vertical-align: middle;\n",
       "    }\n",
       "\n",
       "    .dataframe tbody tr th {\n",
       "        vertical-align: top;\n",
       "    }\n",
       "\n",
       "    .dataframe thead th {\n",
       "        text-align: right;\n",
       "    }\n",
       "</style>\n",
       "<table border=\"1\" class=\"dataframe\">\n",
       "  <thead>\n",
       "    <tr style=\"text-align: right;\">\n",
       "      <th></th>\n",
       "      <th>VenNro</th>\n",
       "      <th>CantidadProductos</th>\n",
       "    </tr>\n",
       "  </thead>\n",
       "  <tbody>\n",
       "    <tr>\n",
       "      <th>0</th>\n",
       "      <td>11</td>\n",
       "      <td>4</td>\n",
       "    </tr>\n",
       "    <tr>\n",
       "      <th>1</th>\n",
       "      <td>12</td>\n",
       "      <td>14</td>\n",
       "    </tr>\n",
       "    <tr>\n",
       "      <th>2</th>\n",
       "      <td>13</td>\n",
       "      <td>1</td>\n",
       "    </tr>\n",
       "    <tr>\n",
       "      <th>3</th>\n",
       "      <td>14</td>\n",
       "      <td>1</td>\n",
       "    </tr>\n",
       "    <tr>\n",
       "      <th>4</th>\n",
       "      <td>15</td>\n",
       "      <td>1</td>\n",
       "    </tr>\n",
       "    <tr>\n",
       "      <th>...</th>\n",
       "      <td>...</td>\n",
       "      <td>...</td>\n",
       "    </tr>\n",
       "    <tr>\n",
       "      <th>97380</th>\n",
       "      <td>97653</td>\n",
       "      <td>2</td>\n",
       "    </tr>\n",
       "    <tr>\n",
       "      <th>97381</th>\n",
       "      <td>97654</td>\n",
       "      <td>3</td>\n",
       "    </tr>\n",
       "    <tr>\n",
       "      <th>97382</th>\n",
       "      <td>97655</td>\n",
       "      <td>1</td>\n",
       "    </tr>\n",
       "    <tr>\n",
       "      <th>97383</th>\n",
       "      <td>97656</td>\n",
       "      <td>2</td>\n",
       "    </tr>\n",
       "    <tr>\n",
       "      <th>97384</th>\n",
       "      <td>97657</td>\n",
       "      <td>3</td>\n",
       "    </tr>\n",
       "  </tbody>\n",
       "</table>\n",
       "<p>97385 rows × 2 columns</p>\n",
       "</div>"
      ],
      "text/plain": [
       "       VenNro  CantidadProductos\n",
       "0          11                  4\n",
       "1          12                 14\n",
       "2          13                  1\n",
       "3          14                  1\n",
       "4          15                  1\n",
       "...       ...                ...\n",
       "97380   97653                  2\n",
       "97381   97654                  3\n",
       "97382   97655                  1\n",
       "97383   97656                  2\n",
       "97384   97657                  3\n",
       "\n",
       "[97385 rows x 2 columns]"
      ]
     },
     "execution_count": 114,
     "metadata": {},
     "output_type": "execute_result"
    }
   ],
   "source": [
    "canastas_filtradas.groupby('VenNro').VenNro.count().reset_index(name='CantidadProductos')"
   ]
  },
  {
   "cell_type": "code",
   "execution_count": 111,
   "metadata": {},
   "outputs": [
    {
     "data": {
      "text/plain": [
       "97711"
      ]
     },
     "execution_count": 111,
     "metadata": {},
     "output_type": "execute_result"
    }
   ],
   "source": []
  },
  {
   "cell_type": "markdown",
   "metadata": {},
   "source": [
    "Productos más vendidos"
   ]
  },
  {
   "cell_type": "markdown",
   "metadata": {},
   "source": [
    "Cuándo compran los usuarios, análisis temporal"
   ]
  },
  {
   "cell_type": "markdown",
   "metadata": {},
   "source": [
    "Cuál es el tamaño de la canasta"
   ]
  },
  {
   "cell_type": "markdown",
   "metadata": {},
   "source": [
    "Qué productos son comprados en: Día, semana, mes"
   ]
  },
  {
   "cell_type": "markdown",
   "metadata": {},
   "source": [
    "Cuándo las personas compran, análisis por horario"
   ]
  },
  {
   "cell_type": "markdown",
   "metadata": {},
   "source": [
    "Qué productos no sean comprado"
   ]
  },
  {
   "cell_type": "markdown",
   "metadata": {},
   "source": [
    "Tamaño de la canasta por día, semana y mes"
   ]
  }
 ],
 "metadata": {
  "kernelspec": {
   "display_name": ".venv",
   "language": "python",
   "name": "python3"
  },
  "language_info": {
   "codemirror_mode": {
    "name": "ipython",
    "version": 3
   },
   "file_extension": ".py",
   "mimetype": "text/x-python",
   "name": "python",
   "nbconvert_exporter": "python",
   "pygments_lexer": "ipython3",
   "version": "3.8.0"
  }
 },
 "nbformat": 4,
 "nbformat_minor": 2
}
